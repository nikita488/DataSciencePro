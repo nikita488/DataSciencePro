{
 "cells": [
  {
   "cell_type": "code",
   "execution_count": 15,
   "metadata": {},
   "outputs": [
    {
     "name": "stdout",
     "output_type": "stream",
     "text": [
      "Requirement already satisfied: scikit-learn in d:\\dev\\datasciencepro\\.venv\\lib\\site-packages (1.6.1)\n",
      "Requirement already satisfied: pandas in d:\\dev\\datasciencepro\\.venv\\lib\\site-packages (2.2.3)\n",
      "Requirement already satisfied: matplotlib in d:\\dev\\datasciencepro\\.venv\\lib\\site-packages (3.10.3)\n",
      "Requirement already satisfied: lightgbm in d:\\dev\\datasciencepro\\.venv\\lib\\site-packages (4.6.0)\n",
      "Requirement already satisfied: imbalanced-learn in d:\\dev\\datasciencepro\\.venv\\lib\\site-packages (0.13.0)\n",
      "Requirement already satisfied: numpy>=1.19.5 in d:\\dev\\datasciencepro\\.venv\\lib\\site-packages (from scikit-learn) (2.2.6)\n",
      "Requirement already satisfied: scipy>=1.6.0 in d:\\dev\\datasciencepro\\.venv\\lib\\site-packages (from scikit-learn) (1.15.3)\n",
      "Requirement already satisfied: joblib>=1.2.0 in d:\\dev\\datasciencepro\\.venv\\lib\\site-packages (from scikit-learn) (1.5.1)\n",
      "Requirement already satisfied: threadpoolctl>=3.1.0 in d:\\dev\\datasciencepro\\.venv\\lib\\site-packages (from scikit-learn) (3.6.0)\n",
      "Requirement already satisfied: python-dateutil>=2.8.2 in d:\\dev\\datasciencepro\\.venv\\lib\\site-packages (from pandas) (2.9.0.post0)\n",
      "Requirement already satisfied: pytz>=2020.1 in d:\\dev\\datasciencepro\\.venv\\lib\\site-packages (from pandas) (2025.2)\n",
      "Requirement already satisfied: tzdata>=2022.7 in d:\\dev\\datasciencepro\\.venv\\lib\\site-packages (from pandas) (2025.2)\n",
      "Requirement already satisfied: contourpy>=1.0.1 in d:\\dev\\datasciencepro\\.venv\\lib\\site-packages (from matplotlib) (1.3.2)\n",
      "Requirement already satisfied: cycler>=0.10 in d:\\dev\\datasciencepro\\.venv\\lib\\site-packages (from matplotlib) (0.12.1)\n",
      "Requirement already satisfied: fonttools>=4.22.0 in d:\\dev\\datasciencepro\\.venv\\lib\\site-packages (from matplotlib) (4.58.0)\n",
      "Requirement already satisfied: kiwisolver>=1.3.1 in d:\\dev\\datasciencepro\\.venv\\lib\\site-packages (from matplotlib) (1.4.8)\n",
      "Requirement already satisfied: packaging>=20.0 in d:\\dev\\datasciencepro\\.venv\\lib\\site-packages (from matplotlib) (25.0)\n",
      "Requirement already satisfied: pillow>=8 in d:\\dev\\datasciencepro\\.venv\\lib\\site-packages (from matplotlib) (11.2.1)\n",
      "Requirement already satisfied: pyparsing>=2.3.1 in d:\\dev\\datasciencepro\\.venv\\lib\\site-packages (from matplotlib) (3.2.3)\n",
      "Requirement already satisfied: sklearn-compat<1,>=0.1 in d:\\dev\\datasciencepro\\.venv\\lib\\site-packages (from imbalanced-learn) (0.1.3)\n",
      "Requirement already satisfied: six>=1.5 in d:\\dev\\datasciencepro\\.venv\\lib\\site-packages (from python-dateutil>=2.8.2->pandas) (1.17.0)\n",
      "Note: you may need to restart the kernel to use updated packages.\n"
     ]
    }
   ],
   "source": [
    "# Установить зависимости\n",
    "%pip install -U scikit-learn pandas matplotlib lightgbm imbalanced-learn"
   ]
  },
  {
   "cell_type": "code",
   "execution_count": 18,
   "metadata": {},
   "outputs": [
    {
     "name": "stdout",
     "output_type": "stream",
     "text": [
      "<class 'pandas.core.frame.DataFrame'>\n",
      "RangeIndex: 33510 entries, 0 to 33509\n",
      "Data columns (total 3 columns):\n",
      " #   Column       Non-Null Count  Dtype \n",
      "---  ------       --------------  ----- \n",
      " 0   id           33510 non-null  int64 \n",
      " 1   cuisine      33510 non-null  object\n",
      " 2   ingredients  33510 non-null  object\n",
      "dtypes: int64(1), object(2)\n",
      "memory usage: 785.5+ KB\n",
      "      id      cuisine                                        ingredients\n",
      "0  10259        greek  [romaine lettuce, black olives, grape tomatoes...\n",
      "1  25693  southern_us  [plain flour, ground pepper, salt, tomatoes, g...\n",
      "2  22213       indian                [water, vegetable oil, wheat, salt]\n",
      "3  13162       indian  [black pepper, shallots, cornflour, cayenne pe...\n",
      "4   3735      italian  [sugar, pistachio nuts, white almond bark, flo...\n"
     ]
    },
    {
     "data": {
      "image/png": "[encoded data removed]",
      "text/plain": [
       "<Figure size 640x480 with 1 Axes>"
      ]
     },
     "metadata": {},
     "output_type": "display_data"
    },
    {
     "name": "stderr",
     "output_type": "stream",
     "text": [
      "d:\\Dev\\DataSciencePro\\.venv\\Lib\\site-packages\\xgboost\\training.py:183: UserWarning: [20:58:26] WARNING: C:\\actions-runner\\_work\\xgboost\\xgboost\\src\\learner.cc:738: \n",
      "Parameters: { \"n_estimatiors\", \"use_label_encoder\" } are not used.\n",
      "\n",
      "  bst.update(dtrain, iteration=i, fobj=obj)\n",
      "d:\\Dev\\DataSciencePro\\.venv\\Lib\\site-packages\\xgboost\\training.py:183: UserWarning: [20:59:00] WARNING: C:\\actions-runner\\_work\\xgboost\\xgboost\\src\\learner.cc:738: \n",
      "Parameters: { \"n_estimatiors\", \"use_label_encoder\" } are not used.\n",
      "\n",
      "  bst.update(dtrain, iteration=i, fobj=obj)\n",
      "d:\\Dev\\DataSciencePro\\.venv\\Lib\\site-packages\\xgboost\\training.py:183: UserWarning: [20:59:21] WARNING: C:\\actions-runner\\_work\\xgboost\\xgboost\\src\\learner.cc:738: \n",
      "Parameters: { \"n_estimatiors\", \"use_label_encoder\" } are not used.\n",
      "\n",
      "  bst.update(dtrain, iteration=i, fobj=obj)\n",
      "d:\\Dev\\DataSciencePro\\.venv\\Lib\\site-packages\\xgboost\\training.py:183: UserWarning: [20:59:42] WARNING: C:\\actions-runner\\_work\\xgboost\\xgboost\\src\\learner.cc:738: \n",
      "Parameters: { \"n_estimatiors\", \"use_label_encoder\" } are not used.\n",
      "\n",
      "  bst.update(dtrain, iteration=i, fobj=obj)\n",
      "d:\\Dev\\DataSciencePro\\.venv\\Lib\\site-packages\\xgboost\\training.py:183: UserWarning: [21:00:02] WARNING: C:\\actions-runner\\_work\\xgboost\\xgboost\\src\\learner.cc:738: \n",
      "Parameters: { \"n_estimatiors\", \"use_label_encoder\" } are not used.\n",
      "\n",
      "  bst.update(dtrain, iteration=i, fobj=obj)\n",
      "d:\\Dev\\DataSciencePro\\.venv\\Lib\\site-packages\\xgboost\\training.py:183: UserWarning: [21:00:23] WARNING: C:\\actions-runner\\_work\\xgboost\\xgboost\\src\\learner.cc:738: \n",
      "Parameters: { \"n_estimatiors\", \"use_label_encoder\" } are not used.\n",
      "\n",
      "  bst.update(dtrain, iteration=i, fobj=obj)\n",
      "d:\\Dev\\DataSciencePro\\.venv\\Lib\\site-packages\\sklearn\\utils\\validation.py:2739: UserWarning: X does not have valid feature names, but LGBMClassifier was fitted with feature names\n",
      "  warnings.warn(\n",
      "d:\\Dev\\DataSciencePro\\.venv\\Lib\\site-packages\\sklearn\\utils\\validation.py:2739: UserWarning: X does not have valid feature names, but LGBMClassifier was fitted with feature names\n",
      "  warnings.warn(\n",
      "d:\\Dev\\DataSciencePro\\.venv\\Lib\\site-packages\\sklearn\\utils\\validation.py:2739: UserWarning: X does not have valid feature names, but LGBMClassifier was fitted with feature names\n",
      "  warnings.warn(\n",
      "d:\\Dev\\DataSciencePro\\.venv\\Lib\\site-packages\\sklearn\\utils\\validation.py:2739: UserWarning: X does not have valid feature names, but LGBMClassifier was fitted with feature names\n",
      "  warnings.warn(\n",
      "d:\\Dev\\DataSciencePro\\.venv\\Lib\\site-packages\\sklearn\\utils\\validation.py:2739: UserWarning: X does not have valid feature names, but LGBMClassifier was fitted with feature names\n",
      "  warnings.warn(\n",
      "d:\\Dev\\DataSciencePro\\.venv\\Lib\\site-packages\\sklearn\\utils\\validation.py:2739: UserWarning: X does not have valid feature names, but LGBMClassifier was fitted with feature names\n",
      "  warnings.warn(\n"
     ]
    },
    {
     "name": "stdout",
     "output_type": "stream",
     "text": [
      "Метрики качества:\n",
      "              precision    recall  f1-score   support\n",
      "\n",
      "     british       0.72      0.70      0.71       161\n",
      "     chinese       0.79      0.77      0.78       161\n",
      "      french       0.59      0.71      0.64       161\n",
      "       greek       0.85      0.79      0.82       161\n",
      "      indian       0.81      0.86      0.83       161\n",
      "     italian       0.76      0.78      0.77       161\n",
      "    japanese       0.81      0.70      0.75       161\n",
      "      korean       0.87      0.86      0.87       161\n",
      "     mexican       0.91      0.86      0.89       161\n",
      "    moroccan       0.86      0.90      0.88       161\n",
      " southern_us       0.76      0.76      0.76       161\n",
      "        thai       0.89      0.87      0.88       161\n",
      "\n",
      "    accuracy                           0.80      1932\n",
      "   macro avg       0.80      0.80      0.80      1932\n",
      "weighted avg       0.80      0.80      0.80      1932\n",
      "\n",
      "Точность модели: 0.80\n"
     ]
    }
   ],
   "source": [
    "import pandas as pd\n",
    "import matplotlib.pyplot as plt\n",
    "\n",
    "from sklearn.model_selection import train_test_split\n",
    "from sklearn.feature_extraction.text import CountVectorizer\n",
    "from sklearn.linear_model import LogisticRegression\n",
    "from sklearn.metrics import classification_report, accuracy_score\n",
    "from sklearn.ensemble import StackingClassifier, RandomForestClassifier\n",
    "\n",
    "from imblearn.under_sampling import RandomUnderSampler\n",
    "\n",
    "from xgboost import XGBClassifier\n",
    "from lightgbm import LGBMClassifier\n",
    "\n",
    "# Прочитать датасет из JSON файла\n",
    "df = pd.read_json('HW1_1_dataset.zip')\n",
    "\n",
    "# Вывод инфы про столбцы, недостающие значения, типы данных, а также несколько первых записей\n",
    "df.info()\n",
    "print(df.head())\n",
    "\n",
    "# График распределения кухонь\n",
    "cuisine_plt = df['cuisine'].value_counts().plot(kind='barh', title='Распределение', xlabel='Кол-во рецептов', ylabel='Виды Кухни')\n",
    "plt.show()\n",
    "\n",
    "# Удалить ненужный столбец id (axis=1 - столбец) и преобразовать массив строк в одну строку\n",
    "df.drop(\"id\", axis=1, inplace=True)\n",
    "df['ingredients'] = df['ingredients'].apply(lambda x: ' '.join(x))\n",
    "\n",
    "# Признаки (X) - токинизированный перечень ингрииентов, целевая переменная (y) - тип кухни\n",
    "vectorizer = CountVectorizer()\n",
    "X = vectorizer.fit_transform(df['ingredients']).toarray()\n",
    "y = df['cuisine']\n",
    "\n",
    "# Разделить на тренировочкую (80%) и тестовую выборки (20%)\n",
    "X_train, X_test, y_train, y_test = train_test_split(X, y, test_size=0.2, random_state=42, stratify=y)\n",
    "\n",
    "# Балансируем классы через андерсэмплер\n",
    "res = RandomUnderSampler(sampling_strategy='all', random_state=42)\n",
    "\n",
    "X_train, y_train = res.fit_resample(X_train, y_train)\n",
    "X_test, y_test = res.fit_resample(X_test, y_test)\n",
    "\n",
    "# Тренируем модель\n",
    "classifier = StackingClassifier(estimators=[\n",
    "   ('xg', XGBClassifier(use_label_encoder=False, eval_metric='logloss', n_estimatiors=1000, max_depth=6, learning_rate=0.5, random_state=42)),\n",
    "   ('lgbm', LGBMClassifier(learning_rate=0.1, verbosity=-1)),\n",
    "   ('forest', RandomForestClassifier(n_estimators=100, random_state=42))\n",
    "], final_estimator=LogisticRegression(max_iter=1000, random_state=42))\n",
    "\n",
    "classifier.fit(X_train, y_train)\n",
    "\n",
    "# Предсказываем\n",
    "y_pred = classifier.predict(X_test)\n",
    "\n",
    "# Проверка и анализ результатов\n",
    "print('Метрики качества:')\n",
    "print(classification_report(y_test, y_pred))\n",
    "print(f\"Точность модели: {accuracy_score(y_test, y_pred):.2f}\")"
   ]
  }
 ],
 "metadata": {
  "kernelspec": {
   "display_name": ".venv",
   "language": "python",
   "name": "python3"
  },
  "language_info": {
   "codemirror_mode": {
    "name": "ipython",
    "version": 3
   },
   "file_extension": ".py",
   "mimetype": "text/x-python",
   "name": "python",
   "nbconvert_exporter": "python",
   "pygments_lexer": "ipython3",
   "version": "3.12.6"
  }
 },
 "nbformat": 4,
 "nbformat_minor": 2
}
